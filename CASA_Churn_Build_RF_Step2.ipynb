{
 "cells": [
  {
   "cell_type": "code",
   "execution_count": 1,
   "id": "292b9385",
   "metadata": {
    "id": "292b9385"
   },
   "outputs": [],
   "source": [
    "# !pip install imblearn"
   ]
  },
  {
   "cell_type": "code",
   "execution_count": 2,
   "id": "jo2CrM-7bEss",
   "metadata": {
    "colab": {
     "base_uri": "https://localhost:8080/"
    },
    "executionInfo": {
     "elapsed": 9929,
     "status": "ok",
     "timestamp": 1719386708344,
     "user": {
      "displayName": "Huong Bui",
      "userId": "06239643069762170294"
     },
     "user_tz": -420
    },
    "id": "jo2CrM-7bEss",
    "outputId": "dd43cfba-437a-40f0-f5c6-55b1de168620"
   },
   "outputs": [],
   "source": [
    "# !pip install lazypredict"
   ]
  },
  {
   "cell_type": "code",
   "execution_count": 3,
   "id": "2ad281bd",
   "metadata": {
    "executionInfo": {
     "elapsed": 6,
     "status": "ok",
     "timestamp": 1719384693246,
     "user": {
      "displayName": "Huong Bui",
      "userId": "06239643069762170294"
     },
     "user_tz": -420
    },
    "id": "2ad281bd"
   },
   "outputs": [],
   "source": [
    "import numpy as np\n",
    "import pandas as pd\n",
    "import gc\n",
    "from datetime import datetime\n",
    "import pickle\n",
    "import os"
   ]
  },
  {
   "cell_type": "code",
   "execution_count": 4,
   "id": "m3qeETG-7W4d",
   "metadata": {
    "id": "m3qeETG-7W4d"
   },
   "outputs": [],
   "source": [
    "import pyodbc"
   ]
  },
  {
   "cell_type": "code",
   "execution_count": 6,
   "id": "feea3407",
   "metadata": {
    "executionInfo": {
     "elapsed": 2058,
     "status": "ok",
     "timestamp": 1719386716873,
     "user": {
      "displayName": "Huong Bui",
      "userId": "06239643069762170294"
     },
     "user_tz": -420
    },
    "id": "feea3407"
   },
   "outputs": [],
   "source": [
    "from sklearn.model_selection import train_test_split\n",
    "from imblearn.under_sampling import RandomUnderSampler\n",
    "\n",
    "from lazypredict.Supervised import LazyClassifier\n",
    "from sklearn.ensemble import RandomForestClassifier\n",
    "from sklearn.naive_bayes import BernoulliNB\n",
    "\n",
    "from sklearn.metrics import classification_report,confusion_matrix\n",
    "from sklearn.model_selection import GridSearchCV, RandomizedSearchCV\n",
    "from sklearn.model_selection import cross_val_score\n",
    "from sklearn.metrics import accuracy_score, f1_score, confusion_matrix, classification_report, roc_auc_score, roc_curve,\\\n",
    "                            precision_recall_fscore_support, precision_score, recall_score"
   ]
  },
  {
   "cell_type": "code",
   "execution_count": 7,
   "id": "YuQKGCzs7r2C",
   "metadata": {
    "colab": {
     "base_uri": "https://localhost:8080/"
    },
    "executionInfo": {
     "elapsed": 36402,
     "status": "ok",
     "timestamp": 1719384742769,
     "user": {
      "displayName": "Huong Bui",
      "userId": "06239643069762170294"
     },
     "user_tz": -420
    },
    "id": "YuQKGCzs7r2C",
    "outputId": "73c3917e-0e97-42b2-c60b-029b962a4be6"
   },
   "outputs": [],
   "source": [
    "# from google.colab import drive\n",
    "# drive.mount('/content/gdrive', force_remount=True)"
   ]
  },
  {
   "cell_type": "code",
   "execution_count": 8,
   "id": "Dg8x2eVs7xMk",
   "metadata": {
    "colab": {
     "base_uri": "https://localhost:8080/"
    },
    "executionInfo": {
     "elapsed": 4,
     "status": "ok",
     "timestamp": 1719384742769,
     "user": {
      "displayName": "Huong Bui",
      "userId": "06239643069762170294"
     },
     "user_tz": -420
    },
    "id": "Dg8x2eVs7xMk",
    "outputId": "e90101aa-572f-488d-faab-5078d9d2daad"
   },
   "outputs": [],
   "source": [
    "# %cd '/content/gdrive/My Drive/CARD CHURN/'"
   ]
  },
  {
   "cell_type": "code",
   "execution_count": 9,
   "id": "c1f6cdd3",
   "metadata": {
    "executionInfo": {
     "elapsed": 3,
     "status": "ok",
     "timestamp": 1719384742770,
     "user": {
      "displayName": "Huong Bui",
      "userId": "06239643069762170294"
     },
     "user_tz": -420
    },
    "id": "c1f6cdd3"
   },
   "outputs": [],
   "source": [
    "# Cross validation\n",
    "def Average_Score_Class1(model, X, y, size=0.2, cv=5, threshold=0.5):\n",
    "    precision_class1=[]\n",
    "    recall_class1=[]\n",
    "\n",
    "    for n in range(1, cv+1):\n",
    "        X_train, X_test, y_train, y_test = train_test_split(X, y, test_size=size)\n",
    "\n",
    "        df_predict = pd.DataFrame(model.predict_proba(X_test))\n",
    "        df_predict.columns = ['proba_0','proba_1']\n",
    "\n",
    "        i = threshold\n",
    "        df_predict['predict'] = 0\n",
    "        df_predict.loc[(df_predict['proba_1']>=i),['predict']] = 1\n",
    "        df_predict['true_value'] = y_test\n",
    "\n",
    "        precision_class1.append(precision_score(y_test, df_predict['predict'], pos_label=1))\n",
    "        recall_class1.append(recall_score(y_test, df_predict['predict'], pos_label=1))\n",
    "\n",
    "    return precision_class1, recall_class1"
   ]
  },
  {
   "cell_type": "code",
   "execution_count": 10,
   "id": "OBa-iZ85VVkQ",
   "metadata": {
    "executionInfo": {
     "elapsed": 2,
     "status": "ok",
     "timestamp": 1719384742770,
     "user": {
      "displayName": "Huong Bui",
      "userId": "06239643069762170294"
     },
     "user_tz": -420
    },
    "id": "OBa-iZ85VVkQ"
   },
   "outputs": [],
   "source": [
    "def Evaluation_Each_Class(model, X, y, list_of_thresholds, list_of_classes):\n",
    "\n",
    "  threshold_list = []\n",
    "  class_list = []\n",
    "  precision_list = []\n",
    "  recall_list = []\n",
    "  f1_score_list = []\n",
    "\n",
    "  for threshold in list_of_thresholds:\n",
    "    for class_ in list_of_classes:\n",
    "      threshold_list.append(threshold)\n",
    "      class_list.append(class_)\n",
    "\n",
    "      df_predict = pd.DataFrame(model.predict_proba(X))\n",
    "      df_predict.columns = ['proba_0','proba_1']\n",
    "      df_predict['true_value'] = y.values\n",
    "\n",
    "      i = threshold\n",
    "      df_predict['predict'] = 0\n",
    "      df_predict.loc[(df_predict['proba_1']>=i),['predict']] = 1\n",
    "\n",
    "      precision_list.append(precision_score(df_predict['true_value'], df_predict['predict'], pos_label=class_))\n",
    "      recall_list.append(recall_score(df_predict['true_value'], df_predict['predict'], pos_label=class_))\n",
    "      f1_score_list.append(f1_score(df_predict['true_value'], df_predict['predict'], pos_label=class_))\n",
    "\n",
    "  df_evaluation = pd.DataFrame({'threshold':threshold_list,\n",
    "                                'class':class_list,\n",
    "                                'precision':precision_list,\n",
    "                                'recall':recall_list,\n",
    "                                'f1_score':f1_score_list})\n",
    "  return df_evaluation"
   ]
  },
  {
   "cell_type": "code",
   "execution_count": 12,
   "id": "d63eec8d",
   "metadata": {
    "executionInfo": {
     "elapsed": 374,
     "status": "ok",
     "timestamp": 1719384830675,
     "user": {
      "displayName": "Huong Bui",
      "userId": "06239643069762170294"
     },
     "user_tz": -420
    },
    "id": "d63eec8d"
   },
   "outputs": [],
   "source": [
    "# Define period of sample data\n",
    "# Feature data cover from 202312 to 202403\n",
    "# Output data cover from 202402 tp 202405\n",
    "list_month = [202312, 202401, 202402, 202403]"
   ]
  },
  {
   "cell_type": "markdown",
   "id": "55efdbca",
   "metadata": {
    "id": "55efdbca"
   },
   "source": [
    "# Read Data"
   ]
  },
  {
   "cell_type": "code",
   "execution_count": 13,
   "id": "7839cd24",
   "metadata": {},
   "outputs": [],
   "source": [
    "# Save the sample data\n",
    "X = pd.read_csv('F:/PROJECT/CASA_Churn/X_202402_202405_2lead.csv')"
   ]
  },
  {
   "cell_type": "code",
   "execution_count": 14,
   "id": "21c78733",
   "metadata": {},
   "outputs": [],
   "source": [
    "# Save the sample data\n",
    "y = pd.read_csv('F:/PROJECT/CASA_Churn/Y_202402_202405_2lead.csv')"
   ]
  },
  {
   "cell_type": "markdown",
   "id": "8bc124df",
   "metadata": {
    "id": "8bc124df"
   },
   "source": [
    "# Build Model"
   ]
  },
  {
   "cell_type": "markdown",
   "id": "9ab017ac",
   "metadata": {
    "id": "9ab017ac"
   },
   "source": [
    "## Train-Test Split"
   ]
  },
  {
   "cell_type": "code",
   "execution_count": 15,
   "id": "59c35fb7",
   "metadata": {
    "executionInfo": {
     "elapsed": 880,
     "status": "ok",
     "timestamp": 1719385149916,
     "user": {
      "displayName": "Huong Bui",
      "userId": "06239643069762170294"
     },
     "user_tz": -420
    },
    "id": "59c35fb7"
   },
   "outputs": [],
   "source": [
    "X_train, X_test, y_train, y_test = train_test_split(X, y,\n",
    "                                                   test_size=0.2,\n",
    "                                                   random_state=42)"
   ]
  },
  {
   "cell_type": "code",
   "execution_count": 16,
   "id": "c78704ff",
   "metadata": {
    "colab": {
     "base_uri": "https://localhost:8080/"
    },
    "executionInfo": {
     "elapsed": 336,
     "status": "ok",
     "timestamp": 1719385152721,
     "user": {
      "displayName": "Huong Bui",
      "userId": "06239643069762170294"
     },
     "user_tz": -420
    },
    "id": "c78704ff",
    "outputId": "567d4881-3629-46d0-ffba-ad2072da414f"
   },
   "outputs": [
    {
     "data": {
      "text/plain": [
       "Y\n",
       "0    1144825\n",
       "1      53732\n",
       "dtype: int64"
      ]
     },
     "execution_count": 16,
     "metadata": {},
     "output_type": "execute_result"
    }
   ],
   "source": [
    "y_train.value_counts()"
   ]
  },
  {
   "cell_type": "code",
   "execution_count": 17,
   "id": "d810a551",
   "metadata": {
    "colab": {
     "base_uri": "https://localhost:8080/"
    },
    "executionInfo": {
     "elapsed": 352,
     "status": "ok",
     "timestamp": 1719385155110,
     "user": {
      "displayName": "Huong Bui",
      "userId": "06239643069762170294"
     },
     "user_tz": -420
    },
    "id": "d810a551",
    "outputId": "e08e3f61-fce6-443e-b3ea-6d7462b91e17"
   },
   "outputs": [
    {
     "data": {
      "text/plain": [
       "Y\n",
       "0    286212\n",
       "1     13428\n",
       "dtype: int64"
      ]
     },
     "execution_count": 17,
     "metadata": {},
     "output_type": "execute_result"
    }
   ],
   "source": [
    "y_test.value_counts()"
   ]
  },
  {
   "cell_type": "code",
   "execution_count": 18,
   "id": "7d6d44a3",
   "metadata": {
    "executionInfo": {
     "elapsed": 369,
     "status": "ok",
     "timestamp": 1719385158454,
     "user": {
      "displayName": "Huong Bui",
      "userId": "06239643069762170294"
     },
     "user_tz": -420
    },
    "id": "7d6d44a3"
   },
   "outputs": [],
   "source": [
    "# Fix Imbalance problem\n",
    "rus = RandomUnderSampler(random_state=0)\n",
    "X_train_rus, y_train_rus = rus.fit_resample(X_train, y_train)"
   ]
  },
  {
   "cell_type": "code",
   "execution_count": 19,
   "id": "562ba284",
   "metadata": {
    "colab": {
     "base_uri": "https://localhost:8080/"
    },
    "executionInfo": {
     "elapsed": 348,
     "status": "ok",
     "timestamp": 1719385160971,
     "user": {
      "displayName": "Huong Bui",
      "userId": "06239643069762170294"
     },
     "user_tz": -420
    },
    "id": "562ba284",
    "outputId": "7d73fff2-1f9f-4bbc-905e-ffb3e218e569"
   },
   "outputs": [
    {
     "data": {
      "text/plain": [
       "Y\n",
       "0    53732\n",
       "1    53732\n",
       "dtype: int64"
      ]
     },
     "execution_count": 19,
     "metadata": {},
     "output_type": "execute_result"
    }
   ],
   "source": [
    "y_train_rus.value_counts()"
   ]
  },
  {
   "cell_type": "code",
   "execution_count": 20,
   "id": "e16d4eb7",
   "metadata": {},
   "outputs": [
    {
     "data": {
      "text/plain": [
       "42"
      ]
     },
     "execution_count": 20,
     "metadata": {},
     "output_type": "execute_result"
    }
   ],
   "source": [
    "del X_train\n",
    "del y_train\n",
    "gc.collect()"
   ]
  },
  {
   "cell_type": "markdown",
   "id": "a6c1aa21",
   "metadata": {
    "id": "a6c1aa21"
   },
   "source": [
    "## LazyPredict"
   ]
  },
  {
   "cell_type": "code",
   "execution_count": null,
   "id": "5011fe15",
   "metadata": {
    "executionInfo": {
     "elapsed": 436,
     "status": "ok",
     "timestamp": 1719386741416,
     "user": {
      "displayName": "Huong Bui",
      "userId": "06239643069762170294"
     },
     "user_tz": -420
    },
    "id": "5011fe15"
   },
   "outputs": [],
   "source": [
    "clf = LazyClassifier(verbose=0, ignore_warnings=True, custom_metric=None)"
   ]
  },
  {
   "cell_type": "code",
   "execution_count": null,
   "id": "8b516d2e",
   "metadata": {
    "colab": {
     "base_uri": "https://localhost:8080/"
    },
    "id": "8b516d2e",
    "outputId": "ddbf19fb-31eb-49a7-af82-161e9efd253c"
   },
   "outputs": [],
   "source": [
    "models, predictions = clf.fit(X_train_rus, X_test, y_train_rus, y_test)"
   ]
  },
  {
   "cell_type": "code",
   "execution_count": null,
   "id": "234898d7",
   "metadata": {
    "id": "234898d7"
   },
   "outputs": [],
   "source": [
    "models"
   ]
  },
  {
   "cell_type": "markdown",
   "id": "f25ceb1b",
   "metadata": {
    "id": "f25ceb1b"
   },
   "source": [
    "Notes:\n",
    "- Choose LGBMClassifier, RandomForestClassifier, XGBClassifier because of the high accuracy in prediction."
   ]
  },
  {
   "cell_type": "markdown",
   "id": "8ebd509f",
   "metadata": {
    "id": "8ebd509f"
   },
   "source": [
    "## LGBMClassifier"
   ]
  },
  {
   "cell_type": "code",
   "execution_count": 21,
   "id": "Gl2TXagvO660",
   "metadata": {
    "executionInfo": {
     "elapsed": 1762,
     "status": "ok",
     "timestamp": 1719385173916,
     "user": {
      "displayName": "Huong Bui",
      "userId": "06239643069762170294"
     },
     "user_tz": -420
    },
    "id": "Gl2TXagvO660"
   },
   "outputs": [],
   "source": [
    "import lightgbm as lgb"
   ]
  },
  {
   "cell_type": "markdown",
   "id": "921acaa7",
   "metadata": {
    "id": "921acaa7"
   },
   "source": [
    "### Build Model"
   ]
  },
  {
   "cell_type": "code",
   "execution_count": 22,
   "id": "f10f87f0",
   "metadata": {
    "colab": {
     "base_uri": "https://localhost:8080/",
     "height": 285
    },
    "executionInfo": {
     "elapsed": 4621,
     "status": "ok",
     "timestamp": 1719385181772,
     "user": {
      "displayName": "Huong Bui",
      "userId": "06239643069762170294"
     },
     "user_tz": -420
    },
    "id": "f10f87f0",
    "outputId": "92515f7c-35b6-40d3-a54a-5cb341bff305"
   },
   "outputs": [
    {
     "data": {
      "text/plain": [
       "LGBMClassifier()"
      ]
     },
     "execution_count": 22,
     "metadata": {},
     "output_type": "execute_result"
    }
   ],
   "source": [
    "# Train model\n",
    "model_lgbm = lgb.LGBMClassifier()\n",
    "model_lgbm.fit(X_train_rus, y_train_rus)"
   ]
  },
  {
   "cell_type": "code",
   "execution_count": 23,
   "id": "d21e3c1f",
   "metadata": {
    "executionInfo": {
     "elapsed": 931,
     "status": "ok",
     "timestamp": 1719385394386,
     "user": {
      "displayName": "Huong Bui",
      "userId": "06239643069762170294"
     },
     "user_tz": -420
    },
    "id": "d21e3c1f"
   },
   "outputs": [],
   "source": [
    "# Save the model to disk\n",
    "filename = 'CASAChurn_LGBMmodel_2lead.sav'\n",
    "pickle.dump(model_lgbm, open(filename, 'wb'))"
   ]
  },
  {
   "cell_type": "code",
   "execution_count": 24,
   "id": "0f5f135d",
   "metadata": {
    "executionInfo": {
     "elapsed": 388,
     "status": "ok",
     "timestamp": 1719385396630,
     "user": {
      "displayName": "Huong Bui",
      "userId": "06239643069762170294"
     },
     "user_tz": -420
    },
    "id": "0f5f135d"
   },
   "outputs": [],
   "source": [
    "# load the model from disk\n",
    "model_lgbm = pickle.load(open(filename, 'rb'))"
   ]
  },
  {
   "cell_type": "markdown",
   "id": "07fec666",
   "metadata": {
    "id": "07fec666"
   },
   "source": [
    "### Evaluation"
   ]
  },
  {
   "cell_type": "code",
   "execution_count": 25,
   "id": "b75541f3",
   "metadata": {
    "colab": {
     "base_uri": "https://localhost:8080/",
     "height": 488
    },
    "executionInfo": {
     "elapsed": 11876,
     "status": "ok",
     "timestamp": 1719385887174,
     "user": {
      "displayName": "Huong Bui",
      "userId": "06239643069762170294"
     },
     "user_tz": -420
    },
    "id": "b75541f3",
    "outputId": "3575841f-99dc-42be-dbe8-583efb6f48a2"
   },
   "outputs": [
    {
     "data": {
      "text/html": [
       "<div>\n",
       "<style scoped>\n",
       "    .dataframe tbody tr th:only-of-type {\n",
       "        vertical-align: middle;\n",
       "    }\n",
       "\n",
       "    .dataframe tbody tr th {\n",
       "        vertical-align: top;\n",
       "    }\n",
       "\n",
       "    .dataframe thead th {\n",
       "        text-align: right;\n",
       "    }\n",
       "</style>\n",
       "<table border=\"1\" class=\"dataframe\">\n",
       "  <thead>\n",
       "    <tr style=\"text-align: right;\">\n",
       "      <th></th>\n",
       "      <th>threshold</th>\n",
       "      <th>class</th>\n",
       "      <th>precision</th>\n",
       "      <th>recall</th>\n",
       "      <th>f1_score</th>\n",
       "    </tr>\n",
       "  </thead>\n",
       "  <tbody>\n",
       "    <tr>\n",
       "      <th>0</th>\n",
       "      <td>0.30</td>\n",
       "      <td>0</td>\n",
       "      <td>0.99</td>\n",
       "      <td>0.81</td>\n",
       "      <td>0.89</td>\n",
       "    </tr>\n",
       "    <tr>\n",
       "      <th>1</th>\n",
       "      <td>0.30</td>\n",
       "      <td>1</td>\n",
       "      <td>0.17</td>\n",
       "      <td>0.84</td>\n",
       "      <td>0.28</td>\n",
       "    </tr>\n",
       "    <tr>\n",
       "      <th>2</th>\n",
       "      <td>0.50</td>\n",
       "      <td>0</td>\n",
       "      <td>0.99</td>\n",
       "      <td>0.96</td>\n",
       "      <td>0.97</td>\n",
       "    </tr>\n",
       "    <tr>\n",
       "      <th>3</th>\n",
       "      <td>0.50</td>\n",
       "      <td>1</td>\n",
       "      <td>0.47</td>\n",
       "      <td>0.75</td>\n",
       "      <td>0.58</td>\n",
       "    </tr>\n",
       "    <tr>\n",
       "      <th>4</th>\n",
       "      <td>0.60</td>\n",
       "      <td>0</td>\n",
       "      <td>0.99</td>\n",
       "      <td>0.98</td>\n",
       "      <td>0.98</td>\n",
       "    </tr>\n",
       "    <tr>\n",
       "      <th>5</th>\n",
       "      <td>0.60</td>\n",
       "      <td>1</td>\n",
       "      <td>0.62</td>\n",
       "      <td>0.73</td>\n",
       "      <td>0.67</td>\n",
       "    </tr>\n",
       "    <tr>\n",
       "      <th>6</th>\n",
       "      <td>0.70</td>\n",
       "      <td>0</td>\n",
       "      <td>0.99</td>\n",
       "      <td>0.99</td>\n",
       "      <td>0.99</td>\n",
       "    </tr>\n",
       "    <tr>\n",
       "      <th>7</th>\n",
       "      <td>0.70</td>\n",
       "      <td>1</td>\n",
       "      <td>0.72</td>\n",
       "      <td>0.71</td>\n",
       "      <td>0.72</td>\n",
       "    </tr>\n",
       "    <tr>\n",
       "      <th>8</th>\n",
       "      <td>0.80</td>\n",
       "      <td>0</td>\n",
       "      <td>0.99</td>\n",
       "      <td>0.99</td>\n",
       "      <td>0.99</td>\n",
       "    </tr>\n",
       "    <tr>\n",
       "      <th>9</th>\n",
       "      <td>0.80</td>\n",
       "      <td>1</td>\n",
       "      <td>0.77</td>\n",
       "      <td>0.71</td>\n",
       "      <td>0.74</td>\n",
       "    </tr>\n",
       "    <tr>\n",
       "      <th>10</th>\n",
       "      <td>0.90</td>\n",
       "      <td>0</td>\n",
       "      <td>0.99</td>\n",
       "      <td>0.99</td>\n",
       "      <td>0.99</td>\n",
       "    </tr>\n",
       "    <tr>\n",
       "      <th>11</th>\n",
       "      <td>0.90</td>\n",
       "      <td>1</td>\n",
       "      <td>0.80</td>\n",
       "      <td>0.69</td>\n",
       "      <td>0.74</td>\n",
       "    </tr>\n",
       "  </tbody>\n",
       "</table>\n",
       "</div>"
      ],
      "text/plain": [
       "    threshold  class  precision  recall  f1_score\n",
       "0        0.30      0       0.99    0.81      0.89\n",
       "1        0.30      1       0.17    0.84      0.28\n",
       "2        0.50      0       0.99    0.96      0.97\n",
       "3        0.50      1       0.47    0.75      0.58\n",
       "4        0.60      0       0.99    0.98      0.98\n",
       "5        0.60      1       0.62    0.73      0.67\n",
       "6        0.70      0       0.99    0.99      0.99\n",
       "7        0.70      1       0.72    0.71      0.72\n",
       "8        0.80      0       0.99    0.99      0.99\n",
       "9        0.80      1       0.77    0.71      0.74\n",
       "10       0.90      0       0.99    0.99      0.99\n",
       "11       0.90      1       0.80    0.69      0.74"
      ]
     },
     "execution_count": 25,
     "metadata": {},
     "output_type": "execute_result"
    }
   ],
   "source": [
    "# Scores for each class and each threshold\n",
    "model = model_lgbm\n",
    "thresholds = [0.3,0.5,0.6,0.7,0.8,0.9]\n",
    "classes = [0,1]\n",
    "df_evaluation = Evaluation_Each_Class(model, X_test, y_test, thresholds, classes)\n",
    "df_evaluation"
   ]
  },
  {
   "cell_type": "code",
   "execution_count": 26,
   "id": "94a110a0",
   "metadata": {
    "colab": {
     "base_uri": "https://localhost:8080/"
    },
    "executionInfo": {
     "elapsed": 1238,
     "status": "ok",
     "timestamp": 1719385324401,
     "user": {
      "displayName": "Huong Bui",
      "userId": "06239643069762170294"
     },
     "user_tz": -420
    },
    "id": "94a110a0",
    "outputId": "efc79472-1f26-4dc4-f241-85220d1beffe",
    "scrolled": true
   },
   "outputs": [
    {
     "name": "stdout",
     "output_type": "stream",
     "text": [
      "-------------------------------------------------------\n",
      "threshold = 0.3\n",
      "[[230969  55243]\n",
      " [  2120  11308]]\n",
      "              precision    recall  f1-score   support\n",
      "\n",
      "           0       0.99      0.81      0.89    286212\n",
      "           1       0.17      0.84      0.28     13428\n",
      "\n",
      "    accuracy                           0.81    299640\n",
      "   macro avg       0.58      0.82      0.59    299640\n",
      "weighted avg       0.95      0.81      0.86    299640\n",
      "\n",
      "-------------------------------------------------------\n",
      "threshold = 0.5\n",
      "[[274831  11381]\n",
      " [  3362  10066]]\n",
      "              precision    recall  f1-score   support\n",
      "\n",
      "           0       0.99      0.96      0.97    286212\n",
      "           1       0.47      0.75      0.58     13428\n",
      "\n",
      "    accuracy                           0.95    299640\n",
      "   macro avg       0.73      0.85      0.78    299640\n",
      "weighted avg       0.96      0.95      0.96    299640\n",
      "\n",
      "-------------------------------------------------------\n",
      "threshold = 0.6\n",
      "[[280260   5952]\n",
      " [  3650   9778]]\n",
      "              precision    recall  f1-score   support\n",
      "\n",
      "           0       0.99      0.98      0.98    286212\n",
      "           1       0.62      0.73      0.67     13428\n",
      "\n",
      "    accuracy                           0.97    299640\n",
      "   macro avg       0.80      0.85      0.83    299640\n",
      "weighted avg       0.97      0.97      0.97    299640\n",
      "\n",
      "-------------------------------------------------------\n",
      "threshold = 0.7\n",
      "[[282484   3728]\n",
      " [  3837   9591]]\n",
      "              precision    recall  f1-score   support\n",
      "\n",
      "           0       0.99      0.99      0.99    286212\n",
      "           1       0.72      0.71      0.72     13428\n",
      "\n",
      "    accuracy                           0.97    299640\n",
      "   macro avg       0.85      0.85      0.85    299640\n",
      "weighted avg       0.97      0.97      0.97    299640\n",
      "\n",
      "-------------------------------------------------------\n",
      "threshold = 0.8\n",
      "[[283386   2826]\n",
      " [  3956   9472]]\n",
      "              precision    recall  f1-score   support\n",
      "\n",
      "           0       0.99      0.99      0.99    286212\n",
      "           1       0.77      0.71      0.74     13428\n",
      "\n",
      "    accuracy                           0.98    299640\n",
      "   macro avg       0.88      0.85      0.86    299640\n",
      "weighted avg       0.98      0.98      0.98    299640\n",
      "\n",
      "-------------------------------------------------------\n",
      "threshold = 0.9\n",
      "[[283936   2276]\n",
      " [  4138   9290]]\n",
      "              precision    recall  f1-score   support\n",
      "\n",
      "           0       0.99      0.99      0.99    286212\n",
      "           1       0.80      0.69      0.74     13428\n",
      "\n",
      "    accuracy                           0.98    299640\n",
      "   macro avg       0.89      0.84      0.87    299640\n",
      "weighted avg       0.98      0.98      0.98    299640\n",
      "\n"
     ]
    }
   ],
   "source": [
    "# Confusion matrix and Classification report for each threshold\n",
    "model = model_lgbm\n",
    "df_predict = pd.DataFrame(model.predict_proba(X_test)) # predict probabilities\n",
    "df_predict.columns = ['proba_0','proba_1']\n",
    "# Find which threshold will perform the best recall and precision for class 1 (churn)\n",
    "for i in [0.3,0.5,0.6,0.7,0.8,0.9]:\n",
    "    df_predict['predict'] = 0\n",
    "    df_predict.loc[(df_predict['proba_1']>=i),['predict']] = 1\n",
    "    print('-'*55)\n",
    "    print('threshold = ' + str(i))\n",
    "    print(confusion_matrix(y_test, df_predict['predict']))\n",
    "    print(classification_report(y_test, df_predict['predict']))"
   ]
  },
  {
   "cell_type": "markdown",
   "id": "173c1567",
   "metadata": {
    "id": "173c1567"
   },
   "source": [
    "## RandomForest with balanced data"
   ]
  },
  {
   "cell_type": "markdown",
   "id": "cMp429Ef9dBu",
   "metadata": {
    "id": "cMp429Ef9dBu"
   },
   "source": [
    "### Build Model"
   ]
  },
  {
   "cell_type": "code",
   "execution_count": 27,
   "id": "f5f67653",
   "metadata": {
    "colab": {
     "base_uri": "https://localhost:8080/",
     "height": 146
    },
    "executionInfo": {
     "elapsed": 43700,
     "status": "ok",
     "timestamp": 1719386016997,
     "user": {
      "displayName": "Huong Bui",
      "userId": "06239643069762170294"
     },
     "user_tz": -420
    },
    "id": "f5f67653",
    "outputId": "18f61625-5678-4b77-a02f-967cefa170f1"
   },
   "outputs": [
    {
     "data": {
      "text/plain": [
       "RandomForestClassifier(class_weight='balanced', max_depth=50, n_estimators=200,\n",
       "                       n_jobs=-1)"
      ]
     },
     "execution_count": 27,
     "metadata": {},
     "output_type": "execute_result"
    }
   ],
   "source": [
    "# Train model\n",
    "model_rf = RandomForestClassifier(n_estimators=200, max_depth=50, class_weight='balanced', n_jobs=-1)\n",
    "model_rf.fit(X_train_rus, y_train_rus)"
   ]
  },
  {
   "cell_type": "code",
   "execution_count": 28,
   "id": "a87ac929",
   "metadata": {
    "executionInfo": {
     "elapsed": 1493,
     "status": "ok",
     "timestamp": 1719386018488,
     "user": {
      "displayName": "Huong Bui",
      "userId": "06239643069762170294"
     },
     "user_tz": -420
    },
    "id": "a87ac929"
   },
   "outputs": [],
   "source": [
    "# Save the model to disk\n",
    "filename = 'CASAChurn_RFmodel_2lead.sav'\n",
    "pickle.dump(model_rf, open(filename, 'wb'))"
   ]
  },
  {
   "cell_type": "code",
   "execution_count": 29,
   "id": "b9000a83",
   "metadata": {
    "executionInfo": {
     "elapsed": 343,
     "status": "ok",
     "timestamp": 1719386018830,
     "user": {
      "displayName": "Huong Bui",
      "userId": "06239643069762170294"
     },
     "user_tz": -420
    },
    "id": "b9000a83"
   },
   "outputs": [],
   "source": [
    "# load the model from disk\n",
    "model_rf = pickle.load(open(filename, 'rb'))"
   ]
  },
  {
   "cell_type": "markdown",
   "id": "dc32cfb4",
   "metadata": {
    "id": "dc32cfb4"
   },
   "source": [
    "### Evaluation"
   ]
  },
  {
   "cell_type": "code",
   "execution_count": 30,
   "id": "Q83NI5IgRsIS",
   "metadata": {
    "colab": {
     "base_uri": "https://localhost:8080/",
     "height": 1000
    },
    "executionInfo": {
     "elapsed": 55168,
     "status": "ok",
     "timestamp": 1719386074914,
     "user": {
      "displayName": "Huong Bui",
      "userId": "06239643069762170294"
     },
     "user_tz": -420
    },
    "id": "Q83NI5IgRsIS",
    "outputId": "99a9bbbd-e4b8-44b4-9cce-45ae07f16666"
   },
   "outputs": [
    {
     "data": {
      "text/html": [
       "<div>\n",
       "<style scoped>\n",
       "    .dataframe tbody tr th:only-of-type {\n",
       "        vertical-align: middle;\n",
       "    }\n",
       "\n",
       "    .dataframe tbody tr th {\n",
       "        vertical-align: top;\n",
       "    }\n",
       "\n",
       "    .dataframe thead th {\n",
       "        text-align: right;\n",
       "    }\n",
       "</style>\n",
       "<table border=\"1\" class=\"dataframe\">\n",
       "  <thead>\n",
       "    <tr style=\"text-align: right;\">\n",
       "      <th></th>\n",
       "      <th>threshold</th>\n",
       "      <th>class</th>\n",
       "      <th>precision</th>\n",
       "      <th>recall</th>\n",
       "      <th>f1_score</th>\n",
       "    </tr>\n",
       "  </thead>\n",
       "  <tbody>\n",
       "    <tr>\n",
       "      <th>0</th>\n",
       "      <td>0.30</td>\n",
       "      <td>0</td>\n",
       "      <td>0.99</td>\n",
       "      <td>0.71</td>\n",
       "      <td>0.83</td>\n",
       "    </tr>\n",
       "    <tr>\n",
       "      <th>1</th>\n",
       "      <td>0.30</td>\n",
       "      <td>1</td>\n",
       "      <td>0.12</td>\n",
       "      <td>0.87</td>\n",
       "      <td>0.22</td>\n",
       "    </tr>\n",
       "    <tr>\n",
       "      <th>2</th>\n",
       "      <td>0.50</td>\n",
       "      <td>0</td>\n",
       "      <td>0.99</td>\n",
       "      <td>0.94</td>\n",
       "      <td>0.96</td>\n",
       "    </tr>\n",
       "    <tr>\n",
       "      <th>3</th>\n",
       "      <td>0.50</td>\n",
       "      <td>1</td>\n",
       "      <td>0.37</td>\n",
       "      <td>0.76</td>\n",
       "      <td>0.50</td>\n",
       "    </tr>\n",
       "    <tr>\n",
       "      <th>4</th>\n",
       "      <td>0.60</td>\n",
       "      <td>0</td>\n",
       "      <td>0.99</td>\n",
       "      <td>0.97</td>\n",
       "      <td>0.98</td>\n",
       "    </tr>\n",
       "    <tr>\n",
       "      <th>5</th>\n",
       "      <td>0.60</td>\n",
       "      <td>1</td>\n",
       "      <td>0.54</td>\n",
       "      <td>0.73</td>\n",
       "      <td>0.62</td>\n",
       "    </tr>\n",
       "    <tr>\n",
       "      <th>6</th>\n",
       "      <td>0.70</td>\n",
       "      <td>0</td>\n",
       "      <td>0.99</td>\n",
       "      <td>0.99</td>\n",
       "      <td>0.99</td>\n",
       "    </tr>\n",
       "    <tr>\n",
       "      <th>7</th>\n",
       "      <td>0.70</td>\n",
       "      <td>1</td>\n",
       "      <td>0.69</td>\n",
       "      <td>0.71</td>\n",
       "      <td>0.70</td>\n",
       "    </tr>\n",
       "    <tr>\n",
       "      <th>8</th>\n",
       "      <td>0.80</td>\n",
       "      <td>0</td>\n",
       "      <td>0.99</td>\n",
       "      <td>0.99</td>\n",
       "      <td>0.99</td>\n",
       "    </tr>\n",
       "    <tr>\n",
       "      <th>9</th>\n",
       "      <td>0.80</td>\n",
       "      <td>1</td>\n",
       "      <td>0.77</td>\n",
       "      <td>0.70</td>\n",
       "      <td>0.73</td>\n",
       "    </tr>\n",
       "    <tr>\n",
       "      <th>10</th>\n",
       "      <td>0.90</td>\n",
       "      <td>0</td>\n",
       "      <td>0.99</td>\n",
       "      <td>0.99</td>\n",
       "      <td>0.99</td>\n",
       "    </tr>\n",
       "    <tr>\n",
       "      <th>11</th>\n",
       "      <td>0.90</td>\n",
       "      <td>1</td>\n",
       "      <td>0.82</td>\n",
       "      <td>0.68</td>\n",
       "      <td>0.74</td>\n",
       "    </tr>\n",
       "  </tbody>\n",
       "</table>\n",
       "</div>"
      ],
      "text/plain": [
       "    threshold  class  precision  recall  f1_score\n",
       "0        0.30      0       0.99    0.71      0.83\n",
       "1        0.30      1       0.12    0.87      0.22\n",
       "2        0.50      0       0.99    0.94      0.96\n",
       "3        0.50      1       0.37    0.76      0.50\n",
       "4        0.60      0       0.99    0.97      0.98\n",
       "5        0.60      1       0.54    0.73      0.62\n",
       "6        0.70      0       0.99    0.99      0.99\n",
       "7        0.70      1       0.69    0.71      0.70\n",
       "8        0.80      0       0.99    0.99      0.99\n",
       "9        0.80      1       0.77    0.70      0.73\n",
       "10       0.90      0       0.99    0.99      0.99\n",
       "11       0.90      1       0.82    0.68      0.74"
      ]
     },
     "execution_count": 30,
     "metadata": {},
     "output_type": "execute_result"
    }
   ],
   "source": [
    "# Scores for each class and each threshold\n",
    "model = model_rf\n",
    "thresholds = [0.3,0.5,0.6,0.7,0.8,0.9]\n",
    "classes = [0,1]\n",
    "df_evaluation = Evaluation_Each_Class(model, X_test, y_test, thresholds, classes) # Evaluation_Each_Class is an user-defined function\n",
    "df_evaluation"
   ]
  },
  {
   "cell_type": "code",
   "execution_count": 31,
   "id": "4bad2910",
   "metadata": {
    "colab": {
     "base_uri": "https://localhost:8080/"
    },
    "executionInfo": {
     "elapsed": 2630,
     "status": "ok",
     "timestamp": 1719386077541,
     "user": {
      "displayName": "Huong Bui",
      "userId": "06239643069762170294"
     },
     "user_tz": -420
    },
    "id": "4bad2910",
    "outputId": "b60bf711-3360-4a1f-8b14-152be5074f11"
   },
   "outputs": [
    {
     "name": "stdout",
     "output_type": "stream",
     "text": [
      "-------------------------------------------------------\n",
      "threshold = 0.3\n",
      "[[204590  81622]\n",
      " [  1796  11632]]\n",
      "              precision    recall  f1-score   support\n",
      "\n",
      "           0       0.99      0.71      0.83    286212\n",
      "           1       0.12      0.87      0.22     13428\n",
      "\n",
      "    accuracy                           0.72    299640\n",
      "   macro avg       0.56      0.79      0.52    299640\n",
      "weighted avg       0.95      0.72      0.80    299640\n",
      "\n",
      "-------------------------------------------------------\n",
      "threshold = 0.5\n",
      "[[268893  17319]\n",
      " [  3286  10142]]\n",
      "              precision    recall  f1-score   support\n",
      "\n",
      "           0       0.99      0.94      0.96    286212\n",
      "           1       0.37      0.76      0.50     13428\n",
      "\n",
      "    accuracy                           0.93    299640\n",
      "   macro avg       0.68      0.85      0.73    299640\n",
      "weighted avg       0.96      0.93      0.94    299640\n",
      "\n",
      "-------------------------------------------------------\n",
      "threshold = 0.6\n",
      "[[277936   8276]\n",
      " [  3661   9767]]\n",
      "              precision    recall  f1-score   support\n",
      "\n",
      "           0       0.99      0.97      0.98    286212\n",
      "           1       0.54      0.73      0.62     13428\n",
      "\n",
      "    accuracy                           0.96    299640\n",
      "   macro avg       0.76      0.85      0.80    299640\n",
      "weighted avg       0.97      0.96      0.96    299640\n",
      "\n",
      "-------------------------------------------------------\n",
      "threshold = 0.7\n",
      "[[281941   4271]\n",
      " [  3895   9533]]\n",
      "              precision    recall  f1-score   support\n",
      "\n",
      "           0       0.99      0.99      0.99    286212\n",
      "           1       0.69      0.71      0.70     13428\n",
      "\n",
      "    accuracy                           0.97    299640\n",
      "   macro avg       0.84      0.85      0.84    299640\n",
      "weighted avg       0.97      0.97      0.97    299640\n",
      "\n",
      "-------------------------------------------------------\n",
      "threshold = 0.8\n",
      "[[283443   2769]\n",
      " [  4057   9371]]\n",
      "              precision    recall  f1-score   support\n",
      "\n",
      "           0       0.99      0.99      0.99    286212\n",
      "           1       0.77      0.70      0.73     13428\n",
      "\n",
      "    accuracy                           0.98    299640\n",
      "   macro avg       0.88      0.84      0.86    299640\n",
      "weighted avg       0.98      0.98      0.98    299640\n",
      "\n",
      "-------------------------------------------------------\n",
      "threshold = 0.9\n",
      "[[284235   1977]\n",
      " [  4327   9101]]\n",
      "              precision    recall  f1-score   support\n",
      "\n",
      "           0       0.99      0.99      0.99    286212\n",
      "           1       0.82      0.68      0.74     13428\n",
      "\n",
      "    accuracy                           0.98    299640\n",
      "   macro avg       0.90      0.84      0.87    299640\n",
      "weighted avg       0.98      0.98      0.98    299640\n",
      "\n"
     ]
    }
   ],
   "source": [
    "# Confusion matrix and Classification report for each threshold\n",
    "model = model_rf\n",
    "df_predict = pd.DataFrame(model.predict_proba(X_test)) # predict probabilities\n",
    "df_predict.columns = ['proba_0','proba_1']\n",
    "# Find which threshold will perform the best recall and precision for class 1 (churn)\n",
    "for i in [0.3,0.5,0.6,0.7,0.8,0.9]:\n",
    "    df_predict['predict'] = 0\n",
    "    df_predict.loc[(df_predict['proba_1']>=i),['predict']] = 1\n",
    "    print('-'*55)\n",
    "    print('threshold = ' + str(i))\n",
    "    print(confusion_matrix(y_test, df_predict['predict']))\n",
    "    print(classification_report(y_test, df_predict['predict']))"
   ]
  },
  {
   "cell_type": "markdown",
   "id": "f58ddbf7",
   "metadata": {
    "id": "f58ddbf7"
   },
   "source": [
    "Notes:\n",
    "- According to these scores, the threshold of 70% will perform the best recall and precision rates for the class 1 (churn)"
   ]
  },
  {
   "cell_type": "markdown",
   "id": "c0df4d30",
   "metadata": {
    "id": "c0df4d30"
   },
   "source": [
    "### Cross Validation"
   ]
  },
  {
   "cell_type": "code",
   "execution_count": 44,
   "id": "7de168a0",
   "metadata": {
    "executionInfo": {
     "elapsed": 2922,
     "status": "ok",
     "timestamp": 1719386080462,
     "user": {
      "displayName": "Huong Bui",
      "userId": "06239643069762170294"
     },
     "user_tz": -420
    },
    "id": "7de168a0"
   },
   "outputs": [],
   "source": [
    "precision_1, recall_1 = Average_Score_Class1(model, X_test, y_test, size=0.3, cv=5, threshold=0.8)"
   ]
  },
  {
   "cell_type": "code",
   "execution_count": 45,
   "id": "2de5fc35",
   "metadata": {
    "colab": {
     "base_uri": "https://localhost:8080/"
    },
    "executionInfo": {
     "elapsed": 3,
     "status": "ok",
     "timestamp": 1719386080463,
     "user": {
      "displayName": "Huong Bui",
      "userId": "06239643069762170294"
     },
     "user_tz": -420
    },
    "id": "2de5fc35",
    "outputId": "10a6e168-1941-4b90-be8e-38c261ffc04e"
   },
   "outputs": [
    {
     "data": {
      "text/plain": [
       "([0.7711429343420697,\n",
       "  0.7783655117693732,\n",
       "  0.7681992337164751,\n",
       "  0.7749326145552561,\n",
       "  0.7583910495471498],\n",
       " [0.698824681684623,\n",
       "  0.7150145772594753,\n",
       "  0.7042147516307075,\n",
       "  0.7069092697319892,\n",
       "  0.708385170440408])"
      ]
     },
     "execution_count": 45,
     "metadata": {},
     "output_type": "execute_result"
    }
   ],
   "source": [
    "precision_1, recall_1"
   ]
  },
  {
   "cell_type": "markdown",
   "id": "372bce2e",
   "metadata": {
    "id": "372bce2e"
   },
   "source": [
    "## XGBClassifier"
   ]
  },
  {
   "cell_type": "code",
   "execution_count": 34,
   "id": "a9af2ac4",
   "metadata": {
    "executionInfo": {
     "elapsed": 364,
     "status": "ok",
     "timestamp": 1719386355421,
     "user": {
      "displayName": "Huong Bui",
      "userId": "06239643069762170294"
     },
     "user_tz": -420
    },
    "id": "a9af2ac4"
   },
   "outputs": [],
   "source": [
    "import xgboost as xgb"
   ]
  },
  {
   "cell_type": "markdown",
   "id": "55f443fa",
   "metadata": {
    "id": "55f443fa"
   },
   "source": [
    "### Build Model"
   ]
  },
  {
   "cell_type": "code",
   "execution_count": 35,
   "id": "c6228974",
   "metadata": {
    "executionInfo": {
     "elapsed": 59261,
     "status": "ok",
     "timestamp": 1719386414680,
     "user": {
      "displayName": "Huong Bui",
      "userId": "06239643069762170294"
     },
     "user_tz": -420
    },
    "id": "c6228974"
   },
   "outputs": [],
   "source": [
    "model_xgb = xgb.XGBClassifier(n_estimators=200, max_depth=50)\n",
    "model_xgb = model_xgb.fit(X_train_rus, y_train_rus)"
   ]
  },
  {
   "cell_type": "code",
   "execution_count": 36,
   "id": "B5lC2Q262Mm1",
   "metadata": {
    "executionInfo": {
     "elapsed": 790,
     "status": "ok",
     "timestamp": 1719386415469,
     "user": {
      "displayName": "Huong Bui",
      "userId": "06239643069762170294"
     },
     "user_tz": -420
    },
    "id": "B5lC2Q262Mm1"
   },
   "outputs": [],
   "source": [
    "# Save the model to disk\n",
    "filename = 'CASAChurn_XGBmodel_2lead.sav'\n",
    "pickle.dump(model_xgb, open(filename, 'wb'))"
   ]
  },
  {
   "cell_type": "code",
   "execution_count": 37,
   "id": "B6kjw88H2Mp_",
   "metadata": {
    "executionInfo": {
     "elapsed": 2,
     "status": "ok",
     "timestamp": 1719386415469,
     "user": {
      "displayName": "Huong Bui",
      "userId": "06239643069762170294"
     },
     "user_tz": -420
    },
    "id": "B6kjw88H2Mp_"
   },
   "outputs": [],
   "source": [
    "# load the model from disk\n",
    "model_xgb = pickle.load(open(filename, 'rb'))"
   ]
  },
  {
   "cell_type": "markdown",
   "id": "3d3fc05d",
   "metadata": {
    "id": "3d3fc05d"
   },
   "source": [
    "### Evaluation"
   ]
  },
  {
   "cell_type": "code",
   "execution_count": 38,
   "id": "24b6f555",
   "metadata": {
    "colab": {
     "base_uri": "https://localhost:8080/",
     "height": 488
    },
    "executionInfo": {
     "elapsed": 21717,
     "status": "ok",
     "timestamp": 1719386437184,
     "user": {
      "displayName": "Huong Bui",
      "userId": "06239643069762170294"
     },
     "user_tz": -420
    },
    "id": "24b6f555",
    "outputId": "f3263b8a-dd82-4c57-dfd3-a52f56c2781d"
   },
   "outputs": [
    {
     "data": {
      "text/html": [
       "<div>\n",
       "<style scoped>\n",
       "    .dataframe tbody tr th:only-of-type {\n",
       "        vertical-align: middle;\n",
       "    }\n",
       "\n",
       "    .dataframe tbody tr th {\n",
       "        vertical-align: top;\n",
       "    }\n",
       "\n",
       "    .dataframe thead th {\n",
       "        text-align: right;\n",
       "    }\n",
       "</style>\n",
       "<table border=\"1\" class=\"dataframe\">\n",
       "  <thead>\n",
       "    <tr style=\"text-align: right;\">\n",
       "      <th></th>\n",
       "      <th>threshold</th>\n",
       "      <th>class</th>\n",
       "      <th>precision</th>\n",
       "      <th>recall</th>\n",
       "      <th>f1_score</th>\n",
       "    </tr>\n",
       "  </thead>\n",
       "  <tbody>\n",
       "    <tr>\n",
       "      <th>0</th>\n",
       "      <td>0.30</td>\n",
       "      <td>0</td>\n",
       "      <td>0.99</td>\n",
       "      <td>0.87</td>\n",
       "      <td>0.92</td>\n",
       "    </tr>\n",
       "    <tr>\n",
       "      <th>1</th>\n",
       "      <td>0.30</td>\n",
       "      <td>1</td>\n",
       "      <td>0.22</td>\n",
       "      <td>0.80</td>\n",
       "      <td>0.35</td>\n",
       "    </tr>\n",
       "    <tr>\n",
       "      <th>2</th>\n",
       "      <td>0.50</td>\n",
       "      <td>0</td>\n",
       "      <td>0.99</td>\n",
       "      <td>0.92</td>\n",
       "      <td>0.95</td>\n",
       "    </tr>\n",
       "    <tr>\n",
       "      <th>3</th>\n",
       "      <td>0.50</td>\n",
       "      <td>1</td>\n",
       "      <td>0.30</td>\n",
       "      <td>0.77</td>\n",
       "      <td>0.44</td>\n",
       "    </tr>\n",
       "    <tr>\n",
       "      <th>4</th>\n",
       "      <td>0.60</td>\n",
       "      <td>0</td>\n",
       "      <td>0.99</td>\n",
       "      <td>0.93</td>\n",
       "      <td>0.96</td>\n",
       "    </tr>\n",
       "    <tr>\n",
       "      <th>5</th>\n",
       "      <td>0.60</td>\n",
       "      <td>1</td>\n",
       "      <td>0.35</td>\n",
       "      <td>0.76</td>\n",
       "      <td>0.48</td>\n",
       "    </tr>\n",
       "    <tr>\n",
       "      <th>6</th>\n",
       "      <td>0.70</td>\n",
       "      <td>0</td>\n",
       "      <td>0.99</td>\n",
       "      <td>0.95</td>\n",
       "      <td>0.97</td>\n",
       "    </tr>\n",
       "    <tr>\n",
       "      <th>7</th>\n",
       "      <td>0.70</td>\n",
       "      <td>1</td>\n",
       "      <td>0.41</td>\n",
       "      <td>0.75</td>\n",
       "      <td>0.53</td>\n",
       "    </tr>\n",
       "    <tr>\n",
       "      <th>8</th>\n",
       "      <td>0.80</td>\n",
       "      <td>0</td>\n",
       "      <td>0.99</td>\n",
       "      <td>0.96</td>\n",
       "      <td>0.98</td>\n",
       "    </tr>\n",
       "    <tr>\n",
       "      <th>9</th>\n",
       "      <td>0.80</td>\n",
       "      <td>1</td>\n",
       "      <td>0.49</td>\n",
       "      <td>0.73</td>\n",
       "      <td>0.59</td>\n",
       "    </tr>\n",
       "    <tr>\n",
       "      <th>10</th>\n",
       "      <td>0.90</td>\n",
       "      <td>0</td>\n",
       "      <td>0.99</td>\n",
       "      <td>0.98</td>\n",
       "      <td>0.98</td>\n",
       "    </tr>\n",
       "    <tr>\n",
       "      <th>11</th>\n",
       "      <td>0.90</td>\n",
       "      <td>1</td>\n",
       "      <td>0.62</td>\n",
       "      <td>0.72</td>\n",
       "      <td>0.67</td>\n",
       "    </tr>\n",
       "  </tbody>\n",
       "</table>\n",
       "</div>"
      ],
      "text/plain": [
       "    threshold  class  precision  recall  f1_score\n",
       "0        0.30      0       0.99    0.87      0.92\n",
       "1        0.30      1       0.22    0.80      0.35\n",
       "2        0.50      0       0.99    0.92      0.95\n",
       "3        0.50      1       0.30    0.77      0.44\n",
       "4        0.60      0       0.99    0.93      0.96\n",
       "5        0.60      1       0.35    0.76      0.48\n",
       "6        0.70      0       0.99    0.95      0.97\n",
       "7        0.70      1       0.41    0.75      0.53\n",
       "8        0.80      0       0.99    0.96      0.98\n",
       "9        0.80      1       0.49    0.73      0.59\n",
       "10       0.90      0       0.99    0.98      0.98\n",
       "11       0.90      1       0.62    0.72      0.67"
      ]
     },
     "execution_count": 38,
     "metadata": {},
     "output_type": "execute_result"
    }
   ],
   "source": [
    "# Scores for each class and each threshold\n",
    "model = model_xgb\n",
    "thresholds = [0.3,0.5,0.6,0.7,0.8,0.9]\n",
    "classes = [0,1]\n",
    "df_evaluation = Evaluation_Each_Class(model, X_test, y_test, thresholds, classes) # Evaluation_Each_Class is an user-defined function\n",
    "df_evaluation"
   ]
  },
  {
   "cell_type": "code",
   "execution_count": 39,
   "id": "6a955049",
   "metadata": {
    "colab": {
     "base_uri": "https://localhost:8080/"
    },
    "executionInfo": {
     "elapsed": 2730,
     "status": "ok",
     "timestamp": 1719386439912,
     "user": {
      "displayName": "Huong Bui",
      "userId": "06239643069762170294"
     },
     "user_tz": -420
    },
    "id": "6a955049",
    "outputId": "a9d26886-cbc7-4d52-a04b-69dfbe74c123"
   },
   "outputs": [
    {
     "name": "stdout",
     "output_type": "stream",
     "text": [
      "-------------------------------------------------------\n",
      "threshold = 0.3\n",
      "[[248360  37852]\n",
      " [  2727  10701]]\n",
      "              precision    recall  f1-score   support\n",
      "\n",
      "           0       0.99      0.87      0.92    286212\n",
      "           1       0.22      0.80      0.35     13428\n",
      "\n",
      "    accuracy                           0.86    299640\n",
      "   macro avg       0.60      0.83      0.63    299640\n",
      "weighted avg       0.95      0.86      0.90    299640\n",
      "\n",
      "-------------------------------------------------------\n",
      "threshold = 0.5\n",
      "[[262506  23706]\n",
      " [  3083  10345]]\n",
      "              precision    recall  f1-score   support\n",
      "\n",
      "           0       0.99      0.92      0.95    286212\n",
      "           1       0.30      0.77      0.44     13428\n",
      "\n",
      "    accuracy                           0.91    299640\n",
      "   macro avg       0.65      0.84      0.69    299640\n",
      "weighted avg       0.96      0.91      0.93    299640\n",
      "\n",
      "-------------------------------------------------------\n",
      "threshold = 0.6\n",
      "[[267511  18701]\n",
      " [  3239  10189]]\n",
      "              precision    recall  f1-score   support\n",
      "\n",
      "           0       0.99      0.93      0.96    286212\n",
      "           1       0.35      0.76      0.48     13428\n",
      "\n",
      "    accuracy                           0.93    299640\n",
      "   macro avg       0.67      0.85      0.72    299640\n",
      "weighted avg       0.96      0.93      0.94    299640\n",
      "\n",
      "-------------------------------------------------------\n",
      "threshold = 0.7\n",
      "[[271884  14328]\n",
      " [  3404  10024]]\n",
      "              precision    recall  f1-score   support\n",
      "\n",
      "           0       0.99      0.95      0.97    286212\n",
      "           1       0.41      0.75      0.53     13428\n",
      "\n",
      "    accuracy                           0.94    299640\n",
      "   macro avg       0.70      0.85      0.75    299640\n",
      "weighted avg       0.96      0.94      0.95    299640\n",
      "\n",
      "-------------------------------------------------------\n",
      "threshold = 0.8\n",
      "[[276050  10162]\n",
      " [  3567   9861]]\n",
      "              precision    recall  f1-score   support\n",
      "\n",
      "           0       0.99      0.96      0.98    286212\n",
      "           1       0.49      0.73      0.59     13428\n",
      "\n",
      "    accuracy                           0.95    299640\n",
      "   macro avg       0.74      0.85      0.78    299640\n",
      "weighted avg       0.97      0.95      0.96    299640\n",
      "\n",
      "-------------------------------------------------------\n",
      "threshold = 0.9\n",
      "[[280298   5914]\n",
      " [  3752   9676]]\n",
      "              precision    recall  f1-score   support\n",
      "\n",
      "           0       0.99      0.98      0.98    286212\n",
      "           1       0.62      0.72      0.67     13428\n",
      "\n",
      "    accuracy                           0.97    299640\n",
      "   macro avg       0.80      0.85      0.82    299640\n",
      "weighted avg       0.97      0.97      0.97    299640\n",
      "\n"
     ]
    }
   ],
   "source": [
    "# Confusion matrix and Classification report for each threshold\n",
    "model = model_xgb\n",
    "df_predict = pd.DataFrame(model.predict_proba(X_test)) # predict probabilities\n",
    "df_predict.columns = ['proba_0','proba_1']\n",
    "# Find which threshold will perform the best recall and precision for class 1 (churn)\n",
    "for i in [0.3,0.5,0.6,0.7,0.8,0.9]:\n",
    "    df_predict['predict'] = 0\n",
    "    df_predict.loc[(df_predict['proba_1']>=i),['predict']] = 1\n",
    "    print('-'*55)\n",
    "    print('threshold = ' + str(i))\n",
    "    print(confusion_matrix(y_test, df_predict['predict']))\n",
    "    print(classification_report(y_test, df_predict['predict']))"
   ]
  },
  {
   "cell_type": "markdown",
   "id": "1Gt4jT1tTNaw",
   "metadata": {
    "id": "1Gt4jT1tTNaw"
   },
   "source": [
    "# Important Features"
   ]
  },
  {
   "cell_type": "code",
   "execution_count": 40,
   "id": "7httIvRNjA44",
   "metadata": {
    "executionInfo": {
     "elapsed": 13,
     "status": "ok",
     "timestamp": 1719386455274,
     "user": {
      "displayName": "Huong Bui",
      "userId": "06239643069762170294"
     },
     "user_tz": -420
    },
    "id": "7httIvRNjA44"
   },
   "outputs": [],
   "source": [
    "model = model_lgbm\n",
    "# Extract feature importances\n",
    "feature_importances = model.feature_importances_\n",
    "\n",
    "# # Sort feature importances in descending order\n",
    "# sorted_indices = np.argsort(feature_importances)[::-1]\n",
    "\n",
    "# # Print top N features and their importances\n",
    "# top_n = 100  # Change this value based on your preference\n",
    "# print(\"Top {} features:\".format(top_n))\n",
    "# for i in range(top_n):\n",
    "#     feature_index = sorted_indices[i]\n",
    "#     print(\"Feature {}: {} - Importance: {:.4f}\".format(i+1, X_train_rus.columns[feature_index], feature_importances[feature_index]))"
   ]
  },
  {
   "cell_type": "code",
   "execution_count": 41,
   "id": "34OPVLGsOXcJ",
   "metadata": {
    "colab": {
     "base_uri": "https://localhost:8080/",
     "height": 423
    },
    "executionInfo": {
     "elapsed": 13,
     "status": "ok",
     "timestamp": 1719386455274,
     "user": {
      "displayName": "Huong Bui",
      "userId": "06239643069762170294"
     },
     "user_tz": -420
    },
    "id": "34OPVLGsOXcJ",
    "outputId": "6a890fcc-e1ac-40df-f3a0-eadc4d9a88f6"
   },
   "outputs": [
    {
     "data": {
      "text/html": [
       "<div>\n",
       "<style scoped>\n",
       "    .dataframe tbody tr th:only-of-type {\n",
       "        vertical-align: middle;\n",
       "    }\n",
       "\n",
       "    .dataframe tbody tr th {\n",
       "        vertical-align: top;\n",
       "    }\n",
       "\n",
       "    .dataframe thead th {\n",
       "        text-align: right;\n",
       "    }\n",
       "</style>\n",
       "<table border=\"1\" class=\"dataframe\">\n",
       "  <thead>\n",
       "    <tr style=\"text-align: right;\">\n",
       "      <th></th>\n",
       "      <th>Feature name</th>\n",
       "      <th>Importance</th>\n",
       "    </tr>\n",
       "  </thead>\n",
       "  <tbody>\n",
       "    <tr>\n",
       "      <th>131</th>\n",
       "      <td>MAX_ACCOUNT_ENDING_BALANCE_AMT1M_6M</td>\n",
       "      <td>119</td>\n",
       "    </tr>\n",
       "    <tr>\n",
       "      <th>274</th>\n",
       "      <td>RATIO_SUM_SUM_INCREASE_RATIO_ACCOUNT_ENDING_BA...</td>\n",
       "      <td>92</td>\n",
       "    </tr>\n",
       "    <tr>\n",
       "      <th>124</th>\n",
       "      <td>RATIO_SUM_SUM_ACCOUNT_ENDING_BALANCE_AMT1M_1M_...</td>\n",
       "      <td>89</td>\n",
       "    </tr>\n",
       "    <tr>\n",
       "      <th>132</th>\n",
       "      <td>MIN_ACCOUNT_ENDING_BALANCE_AMT1M_6M</td>\n",
       "      <td>78</td>\n",
       "    </tr>\n",
       "    <tr>\n",
       "      <th>103</th>\n",
       "      <td>RATIO_SUM_MIN_ACCOUNT_ENDING_BALANCE_AMT1M_1M_...</td>\n",
       "      <td>75</td>\n",
       "    </tr>\n",
       "    <tr>\n",
       "      <th>...</th>\n",
       "      <td>...</td>\n",
       "      <td>...</td>\n",
       "    </tr>\n",
       "    <tr>\n",
       "      <th>88</th>\n",
       "      <td>RATIO_SUM_MIN_ALL_ACCOUNT_TRANS_OUT_AMT1M_1M_1...</td>\n",
       "      <td>0</td>\n",
       "    </tr>\n",
       "    <tr>\n",
       "      <th>90</th>\n",
       "      <td>RATIO_SUM_MAX_ALL_ACCOUNT_TRANS_IN_NO1M_1M_1M_3M</td>\n",
       "      <td>0</td>\n",
       "    </tr>\n",
       "    <tr>\n",
       "      <th>93</th>\n",
       "      <td>RATIO_SUM_MAX_ALL_ACCOUNT_TRANS_OUT_NO1M_1M_1M_3M</td>\n",
       "      <td>0</td>\n",
       "    </tr>\n",
       "    <tr>\n",
       "      <th>112</th>\n",
       "      <td>MAX_ALL_ACCOUNT_TRANS_OUT_NO1M_6M</td>\n",
       "      <td>0</td>\n",
       "    </tr>\n",
       "    <tr>\n",
       "      <th>377</th>\n",
       "      <td>RATIO_SUM_MIN_AVG_PER_TIME_ALL_ACCOUNT_TRANS_O...</td>\n",
       "      <td>0</td>\n",
       "    </tr>\n",
       "  </tbody>\n",
       "</table>\n",
       "<p>378 rows × 2 columns</p>\n",
       "</div>"
      ],
      "text/plain": [
       "                                          Feature name  Importance\n",
       "131                MAX_ACCOUNT_ENDING_BALANCE_AMT1M_6M         119\n",
       "274  RATIO_SUM_SUM_INCREASE_RATIO_ACCOUNT_ENDING_BA...          92\n",
       "124  RATIO_SUM_SUM_ACCOUNT_ENDING_BALANCE_AMT1M_1M_...          89\n",
       "132                MIN_ACCOUNT_ENDING_BALANCE_AMT1M_6M          78\n",
       "103  RATIO_SUM_MIN_ACCOUNT_ENDING_BALANCE_AMT1M_1M_...          75\n",
       "..                                                 ...         ...\n",
       "88   RATIO_SUM_MIN_ALL_ACCOUNT_TRANS_OUT_AMT1M_1M_1...           0\n",
       "90    RATIO_SUM_MAX_ALL_ACCOUNT_TRANS_IN_NO1M_1M_1M_3M           0\n",
       "93   RATIO_SUM_MAX_ALL_ACCOUNT_TRANS_OUT_NO1M_1M_1M_3M           0\n",
       "112                  MAX_ALL_ACCOUNT_TRANS_OUT_NO1M_6M           0\n",
       "377  RATIO_SUM_MIN_AVG_PER_TIME_ALL_ACCOUNT_TRANS_O...           0\n",
       "\n",
       "[378 rows x 2 columns]"
      ]
     },
     "execution_count": 41,
     "metadata": {},
     "output_type": "execute_result"
    }
   ],
   "source": [
    "df_feature_importances = pd.DataFrame({'Feature name':X_train_rus.columns,\n",
    "                                       'Importance':feature_importances})\n",
    "df_feature_importances = df_feature_importances.sort_values(by='Importance', ascending=False)\n",
    "df_feature_importances"
   ]
  },
  {
   "cell_type": "code",
   "execution_count": 42,
   "id": "qcI3oRaPPX_M",
   "metadata": {
    "executionInfo": {
     "elapsed": 839,
     "status": "ok",
     "timestamp": 1719386456101,
     "user": {
      "displayName": "Huong Bui",
      "userId": "06239643069762170294"
     },
     "user_tz": -420
    },
    "id": "qcI3oRaPPX_M"
   },
   "outputs": [],
   "source": [
    "df_feature_importances.to_csv('feature_importances.csv')"
   ]
  },
  {
   "cell_type": "code",
   "execution_count": 43,
   "id": "w3A9P9hpOXuH",
   "metadata": {
    "colab": {
     "base_uri": "https://localhost:8080/",
     "height": 423
    },
    "executionInfo": {
     "elapsed": 6,
     "status": "ok",
     "timestamp": 1719386456104,
     "user": {
      "displayName": "Huong Bui",
      "userId": "06239643069762170294"
     },
     "user_tz": -420
    },
    "id": "w3A9P9hpOXuH",
    "outputId": "dc92c8ed-2032-49a4-bc48-5c1aaf787a62"
   },
   "outputs": [
    {
     "data": {
      "text/html": [
       "<div>\n",
       "<style scoped>\n",
       "    .dataframe tbody tr th:only-of-type {\n",
       "        vertical-align: middle;\n",
       "    }\n",
       "\n",
       "    .dataframe tbody tr th {\n",
       "        vertical-align: top;\n",
       "    }\n",
       "\n",
       "    .dataframe thead th {\n",
       "        text-align: right;\n",
       "    }\n",
       "</style>\n",
       "<table border=\"1\" class=\"dataframe\">\n",
       "  <thead>\n",
       "    <tr style=\"text-align: right;\">\n",
       "      <th></th>\n",
       "      <th>Feature name</th>\n",
       "      <th>Importance</th>\n",
       "    </tr>\n",
       "  </thead>\n",
       "  <tbody>\n",
       "    <tr>\n",
       "      <th>131</th>\n",
       "      <td>MAX_ACCOUNT_ENDING_BALANCE_AMT1M_6M</td>\n",
       "      <td>119</td>\n",
       "    </tr>\n",
       "    <tr>\n",
       "      <th>274</th>\n",
       "      <td>RATIO_SUM_SUM_INCREASE_RATIO_ACCOUNT_ENDING_BA...</td>\n",
       "      <td>92</td>\n",
       "    </tr>\n",
       "    <tr>\n",
       "      <th>124</th>\n",
       "      <td>RATIO_SUM_SUM_ACCOUNT_ENDING_BALANCE_AMT1M_1M_...</td>\n",
       "      <td>89</td>\n",
       "    </tr>\n",
       "    <tr>\n",
       "      <th>132</th>\n",
       "      <td>MIN_ACCOUNT_ENDING_BALANCE_AMT1M_6M</td>\n",
       "      <td>78</td>\n",
       "    </tr>\n",
       "    <tr>\n",
       "      <th>103</th>\n",
       "      <td>RATIO_SUM_MIN_ACCOUNT_ENDING_BALANCE_AMT1M_1M_...</td>\n",
       "      <td>75</td>\n",
       "    </tr>\n",
       "    <tr>\n",
       "      <th>...</th>\n",
       "      <td>...</td>\n",
       "      <td>...</td>\n",
       "    </tr>\n",
       "    <tr>\n",
       "      <th>283</th>\n",
       "      <td>MIN_INCREASE_RATIO_ALL_ACCOUNT_TRANS_IN_AMT1M_3M</td>\n",
       "      <td>1</td>\n",
       "    </tr>\n",
       "    <tr>\n",
       "      <th>183</th>\n",
       "      <td>MAX_ALL_ACCOUNT_TRANS_IN_NO1M_6M</td>\n",
       "      <td>1</td>\n",
       "    </tr>\n",
       "    <tr>\n",
       "      <th>22</th>\n",
       "      <td>RATIO_SUM_MIN_ACCOUNT_TRANS_OUT_NO1M_1M_1M_3M</td>\n",
       "      <td>1</td>\n",
       "    </tr>\n",
       "    <tr>\n",
       "      <th>23</th>\n",
       "      <td>RATIO_SUM_AVG_ACCOUNT_TRANS_CASH_IN_AMT1M_1M_1...</td>\n",
       "      <td>1</td>\n",
       "    </tr>\n",
       "    <tr>\n",
       "      <th>281</th>\n",
       "      <td>AVG_INCREASE_RATIO_ALL_ACCOUNT_TRANS_IN_AMT1M_3M</td>\n",
       "      <td>1</td>\n",
       "    </tr>\n",
       "  </tbody>\n",
       "</table>\n",
       "<p>320 rows × 2 columns</p>\n",
       "</div>"
      ],
      "text/plain": [
       "                                          Feature name  Importance\n",
       "131                MAX_ACCOUNT_ENDING_BALANCE_AMT1M_6M         119\n",
       "274  RATIO_SUM_SUM_INCREASE_RATIO_ACCOUNT_ENDING_BA...          92\n",
       "124  RATIO_SUM_SUM_ACCOUNT_ENDING_BALANCE_AMT1M_1M_...          89\n",
       "132                MIN_ACCOUNT_ENDING_BALANCE_AMT1M_6M          78\n",
       "103  RATIO_SUM_MIN_ACCOUNT_ENDING_BALANCE_AMT1M_1M_...          75\n",
       "..                                                 ...         ...\n",
       "283   MIN_INCREASE_RATIO_ALL_ACCOUNT_TRANS_IN_AMT1M_3M           1\n",
       "183                   MAX_ALL_ACCOUNT_TRANS_IN_NO1M_6M           1\n",
       "22       RATIO_SUM_MIN_ACCOUNT_TRANS_OUT_NO1M_1M_1M_3M           1\n",
       "23   RATIO_SUM_AVG_ACCOUNT_TRANS_CASH_IN_AMT1M_1M_1...           1\n",
       "281   AVG_INCREASE_RATIO_ALL_ACCOUNT_TRANS_IN_AMT1M_3M           1\n",
       "\n",
       "[320 rows x 2 columns]"
      ]
     },
     "execution_count": 43,
     "metadata": {},
     "output_type": "execute_result"
    }
   ],
   "source": [
    "# Importance > 0\n",
    "df_feature_importances[df_feature_importances['Importance'] > 0]"
   ]
  },
  {
   "cell_type": "code",
   "execution_count": null,
   "id": "01f2fe07",
   "metadata": {},
   "outputs": [],
   "source": []
  }
 ],
 "metadata": {
  "colab": {
   "collapsed_sections": [
    "a6c1aa21"
   ],
   "provenance": [],
   "toc_visible": true
  },
  "kernelspec": {
   "display_name": "Python 3 (ipykernel)",
   "language": "python",
   "name": "python3"
  },
  "language_info": {
   "codemirror_mode": {
    "name": "ipython",
    "version": 3
   },
   "file_extension": ".py",
   "mimetype": "text/x-python",
   "name": "python",
   "nbconvert_exporter": "python",
   "pygments_lexer": "ipython3",
   "version": "3.7.9"
  }
 },
 "nbformat": 4,
 "nbformat_minor": 5
}
