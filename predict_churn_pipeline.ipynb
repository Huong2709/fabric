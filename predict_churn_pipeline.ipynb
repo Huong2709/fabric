{
 "cells": [
  {
   "cell_type": "code",
   "execution_count": 6,
   "id": "7WocX5ppYB4Y",
   "metadata": {
    "colab": {
     "base_uri": "https://localhost:8080/"
    },
    "executionInfo": {
     "elapsed": 20397,
     "status": "ok",
     "timestamp": 1718470408598,
     "user": {
      "displayName": "Huong Bui",
      "userId": "06239643069762170294"
     },
     "user_tz": 420
    },
    "id": "7WocX5ppYB4Y",
    "outputId": "bebd436e-a757-4f5d-b86e-c6806bbdef13"
   },
   "outputs": [],
   "source": [
    "# from google.colab import drive\n",
    "# drive.mount('/content/gdrive', force_remount=True)"
   ]
  },
  {
   "cell_type": "code",
   "execution_count": 7,
   "id": "W6cVzvpjYEk-",
   "metadata": {
    "colab": {
     "base_uri": "https://localhost:8080/"
    },
    "executionInfo": {
     "elapsed": 6,
     "status": "ok",
     "timestamp": 1718470408598,
     "user": {
      "displayName": "Huong Bui",
      "userId": "06239643069762170294"
     },
     "user_tz": 420
    },
    "id": "W6cVzvpjYEk-",
    "outputId": "81e65549-9a2d-406b-83b6-38e6365a6b5a"
   },
   "outputs": [],
   "source": [
    "# %cd '/content/gdrive/My Drive/CARD CHURN/'"
   ]
  },
  {
   "cell_type": "code",
   "execution_count": 8,
   "id": "acvBJIaRkctb",
   "metadata": {
    "executionInfo": {
     "elapsed": 2210,
     "status": "ok",
     "timestamp": 1718470410805,
     "user": {
      "displayName": "Huong Bui",
      "userId": "06239643069762170294"
     },
     "user_tz": 420
    },
    "id": "acvBJIaRkctb"
   },
   "outputs": [],
   "source": [
    "import json\n",
    "import pandas as pd\n",
    "from s1_data_fetch import s1_fetch_data_from_sql\n",
    "from s2_data_cleaning import s2_clean_and_prepare_data\n",
    "from s3_model_utils import s3_load_model, s3_make_predictions\n",
    "from s4_file_utils import s4_save_predictions"
   ]
  },
  {
   "cell_type": "code",
   "execution_count": 9,
   "id": "qgT_LEVikcwB",
   "metadata": {
    "executionInfo": {
     "elapsed": 321,
     "status": "ok",
     "timestamp": 1718470744520,
     "user": {
      "displayName": "Huong Bui",
      "userId": "06239643069762170294"
     },
     "user_tz": 420
    },
    "id": "qgT_LEVikcwB"
   },
   "outputs": [],
   "source": [
    "def load_config(config_file='config.txt'):\n",
    "    with open(config_file, 'r') as f:\n",
    "        config = json.load(f)\n",
    "    return config"
   ]
  },
  {
   "cell_type": "code",
   "execution_count": 10,
   "id": "LjIBIVeHkUKF",
   "metadata": {
    "colab": {
     "base_uri": "https://localhost:8080/"
    },
    "executionInfo": {
     "elapsed": 9873,
     "status": "ok",
     "timestamp": 1718470420675,
     "user": {
      "displayName": "Huong Bui",
      "userId": "06239643069762170294"
     },
     "user_tz": 420
    },
    "id": "LjIBIVeHkUKF",
    "outputId": "473024a0-ec7c-45c6-b6ac-5db6e49b3625"
   },
   "outputs": [],
   "source": [
    "def run_prediction_pipeline(config):\n",
    "    user_sql = config.get('user_sql')\n",
    "    pass_sql = config.get('pass_sql')\n",
    "    list_month = config.get('list_month')\n",
    "    sample_test_oot_path = config.get('sample_test_oot_path')\n",
    "    model_path = config.get('model_path')\n",
    "    threshold = config.get('threshold', 0.7)\n",
    "    output_path = config.get('output_path')\n",
    "    \n",
    "    # Step 1: Fetch data from SQL for the specified list_month\n",
    "    data = s1_fetch_data_from_sql(user_sql=user_sql, pass_sql=pass_sql, list_month=list_month, sample_test_oot_path=sample_test_oot_path)\n",
    "\n",
    "    # Step 2: Clean the data\n",
    "    cleaned_data = s2_clean_and_prepare_data(sample_test_oot_path)\n",
    "    \n",
    "    # Step 3: Load the trained model\n",
    "    model = s3_load_model(model_path)\n",
    "    \n",
    "    # Step 4: Make predictions using the model with the specified threshold\n",
    "    predictions = s3_make_predictions(model=model, cleaned_data=cleaned_data, threshold=threshold)\n",
    "    print(predictions.shape)\n",
    "    \n",
    "    # Step 5: Save predictions to a CSV file\n",
    "    s4_save_predictions(predictions, output_path)"
   ]
  },
  {
   "cell_type": "code",
   "execution_count": 11,
   "id": "sqVR5kFiwZ3F",
   "metadata": {
    "id": "sqVR5kFiwZ3F"
   },
   "outputs": [
    {
     "name": "stdout",
     "output_type": "stream",
     "text": [
      "\n",
      "    SELECT TABLE_NAME\n",
      "    FROM INFORMATION_SCHEMA.TABLES\n",
      "    WHERE TABLE_TYPE = 'BASE TABLE'\n",
      "    AND (TABLE_NAME LIKE 'TMP%')\n",
      "    AND (TABLE_NAME LIKE '%CARD%')\n",
      "    \n",
      "         TABLE_NAME\n",
      "0  TMP1_RF_CARD_FCT\n",
      "1  TMP2_RF_CARD_FCT\n",
      "202408\n",
      "\n",
      "\n",
      "        SELECT CUSTOMER_ID, MONTH_ID_N as MONTH_ID, Y FROM CHURN_DEFINE_CHURN_CREDIT_LEADTIME_SAMPLE\n",
      "        WHERE MONTH_ID_N = 202408\n",
      "        AND Y=0\n",
      "        \n",
      "TMP1_RF_CARD_FCT\n",
      "\n",
      "\n",
      "            SELECT * FROM TMP1_RF_CARD_FCT WHERE MONTH_ID = 202408\n",
      "            \n",
      "TMP2_RF_CARD_FCT\n",
      "\n",
      "\n",
      "            SELECT * FROM TMP2_RF_CARD_FCT WHERE MONTH_ID = 202408\n",
      "            \n",
      "\n",
      "\n",
      "(51190, 5)\n",
      "Predictions saved to sample_test_oot_folder/df_predict.csv\n"
     ]
    }
   ],
   "source": [
    "if __name__ == \"__main__\":    \n",
    "    config = load_config()\n",
    "    run_prediction_pipeline(config)"
   ]
  },
  {
   "cell_type": "code",
   "execution_count": null,
   "id": "cd257632",
   "metadata": {},
   "outputs": [],
   "source": []
  },
  {
   "cell_type": "code",
   "execution_count": null,
   "id": "b329be3a",
   "metadata": {},
   "outputs": [],
   "source": []
  }
 ],
 "metadata": {
  "colab": {
   "provenance": []
  },
  "kernelspec": {
   "display_name": "Python 3 (ipykernel)",
   "language": "python",
   "name": "python3"
  },
  "language_info": {
   "codemirror_mode": {
    "name": "ipython",
    "version": 3
   },
   "file_extension": ".py",
   "mimetype": "text/x-python",
   "name": "python",
   "nbconvert_exporter": "python",
   "pygments_lexer": "ipython3",
   "version": "3.7.9"
  }
 },
 "nbformat": 4,
 "nbformat_minor": 5
}
