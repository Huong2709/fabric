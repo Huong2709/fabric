{
 "cells": [
  {
   "cell_type": "code",
   "execution_count": null,
   "id": "557d61e2",
   "metadata": {},
   "outputs": [],
   "source": [
    "import pandas as pd"
   ]
  },
  {
   "cell_type": "code",
   "execution_count": null,
   "id": "a0dad871",
   "metadata": {},
   "outputs": [],
   "source": [
    "# Read data from Github\n",
    "df = pd.read_csv('https://github.com/Huong2709/fabric/raw/main/Iris.csv')\n",
    "df.head()"
   ]
  },
  {
   "cell_type": "code",
   "execution_count": null,
   "id": "766a9ccd",
   "metadata": {},
   "outputs": [],
   "source": [
    "df = df.iloc[:,:5]\n",
    "df.head()"
   ]
  },
  {
   "cell_type": "code",
   "execution_count": null,
   "id": "07591f53",
   "metadata": {},
   "outputs": [],
   "source": [
    "# Write data to csv format file\n",
    "df.to_csv('abfss://Workspace01@onelake.dfs.fabric.microsoft.com/Lakehouse03.Lakehouse/Files/Github_Iris.csv', index=False)"
   ]
  },
  {
   "cell_type": "code",
   "execution_count": null,
   "id": "61d04fa1",
   "metadata": {},
   "outputs": [],
   "source": [
    "# Write data to parquet format file\n",
    "df.to_parquet('abfss://Workspace01@onelake.dfs.fabric.microsoft.com/Lakehouse03.Lakehouse/Files/Github_Iris.parquet')"
   ]
  },
  {
   "cell_type": "markdown",
   "id": "7cd98e44",
   "metadata": {},
   "source": [
    "# Create a managed table"
   ]
  },
  {
   "cell_type": "code",
   "execution_count": null,
   "id": "9397e758",
   "metadata": {},
   "outputs": [],
   "source": [
    "# Read data from parquet format file using spark\n",
    "df2 = spark.read.parquet('abfss://Workspace01@onelake.dfs.fabric.microsoft.com/Lakehouse03.Lakehouse/Files/Github_Iris.parquet')\n",
    "df2.head()"
   ]
  },
  {
   "cell_type": "code",
   "execution_count": null,
   "id": "8e71dc22",
   "metadata": {},
   "outputs": [],
   "source": [
    "# Write data to a table\n",
    "df2.write.mode('overwrite').format('delta').saveAsTable('Iris_spark_internal')"
   ]
  },
  {
   "cell_type": "markdown",
   "id": "d6c2e734",
   "metadata": {},
   "source": [
    "# Create an external table"
   ]
  },
  {
   "cell_type": "code",
   "execution_count": null,
   "id": "d17ad0b3",
   "metadata": {},
   "outputs": [],
   "source": [
    "# Read data from csv format file using spark\n",
    "df3 = spark.read.csv('abfss://Workspace01@onelake.dfs.fabric.microsoft.com/Lakehouse03.Lakehouse/Files/Github_Iris.csv', header=True)\n",
    "df3.head()"
   ]
  },
  {
   "cell_type": "code",
   "execution_count": null,
   "id": "36b103f9",
   "metadata": {},
   "outputs": [],
   "source": [
    "# Write data to a table\n",
    "df3.write.mode('overwrite').format('delta').saveAsTable('Iris_spark_external', path=\"abfss://Workspace03@onelake.dfs.fabric.microsoft.com/Lakehouse04.Lakehouse/Files/Iris_external\")"
   ]
  },
  {
   "cell_type": "markdown",
   "id": "27cfb59f",
   "metadata": {},
   "source": [
    "# Compare managed and external tables"
   ]
  },
  {
   "cell_type": "code",
   "execution_count": null,
   "id": "3b4d7d40",
   "metadata": {},
   "outputs": [],
   "source": [
    "%%sql\n",
    "\n",
    "DESCRIBE FORMATTED Iris_spark_internal;"
   ]
  },
  {
   "cell_type": "code",
   "execution_count": null,
   "id": "53c5c235",
   "metadata": {},
   "outputs": [],
   "source": [
    "%%sql\n",
    "\n",
    "DESCRIBE FORMATTED Iris_spark_external;"
   ]
  },
  {
   "cell_type": "markdown",
   "id": "eca7e87e",
   "metadata": {},
   "source": [
    "# Use SQL to create a table"
   ]
  },
  {
   "cell_type": "code",
   "execution_count": null,
   "id": "38f533bf",
   "metadata": {},
   "outputs": [],
   "source": [
    "%%sql\n",
    "\n",
    "CREATE TABLE Iris_spark_external_2\n",
    "USING DELTA\n",
    "LOCATION 'Files/Iris_external';"
   ]
  },
  {
   "cell_type": "markdown",
   "id": "449879a6",
   "metadata": {},
   "source": [
    "# Read data from a table"
   ]
  },
  {
   "cell_type": "code",
   "execution_count": null,
   "id": "9ea1d5df",
   "metadata": {},
   "outputs": [],
   "source": [
    "# Read data from a table - Option 1: using spark\n",
    "df4 = spark.read.format(\"delta\").load(\"Tables/iris_spark_internal\")\n",
    "df4.show(5)"
   ]
  },
  {
   "cell_type": "code",
   "execution_count": null,
   "id": "079641a0",
   "metadata": {},
   "outputs": [],
   "source": [
    "# Read data from a table - Option2: using spark SQL\n",
    "df5 = spark.sql(\"SELECT * FROM Lakehouse04.iris_spark_external LIMIT 5\")\n",
    "display(df5)"
   ]
  },
  {
   "cell_type": "code",
   "execution_count": null,
   "id": "63e2917b",
   "metadata": {},
   "outputs": [],
   "source": [
    "# Read data from a table - Option2: using SQL\n",
    "%%sql\n",
    "\n",
    "SELECT * FROM iris_spark_external_2\n",
    "LIMIT 5\n",
    ";"
   ]
  }
 ],
 "metadata": {
  "kernelspec": {
   "display_name": "Python 3 (ipykernel)",
   "language": "python",
   "name": "python3"
  },
  "language_info": {
   "codemirror_mode": {
    "name": "ipython",
    "version": 3
   },
   "file_extension": ".py",
   "mimetype": "text/x-python",
   "name": "python",
   "nbconvert_exporter": "python",
   "pygments_lexer": "ipython3",
   "version": "3.9.2"
  }
 },
 "nbformat": 4,
 "nbformat_minor": 5
}
